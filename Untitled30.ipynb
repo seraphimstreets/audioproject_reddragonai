{
  "nbformat": 4,
  "nbformat_minor": 0,
  "metadata": {
    "colab": {
      "name": "Untitled30.ipynb",
      "provenance": [],
      "collapsed_sections": [],
      "toc_visible": true
    },
    "kernelspec": {
      "name": "python3",
      "display_name": "Python 3"
    }
  },
  "cells": [
    {
      "cell_type": "markdown",
      "metadata": {
        "id": "OcoPdBQ9i22-"
      },
      "source": [
        "# Voice transcription (inference) using DeepSpeech\n",
        "\n",
        "Just a fun additional experiment where I convert audio to text using the pre-trained DeepSpeech model by Mozilla. Some quick tests yielded an impressive word error rate of about 3%. \n",
        "\n",
        "There is also a wrapper function at the end that allows you to record your own voice from this notebook and have the model perform inference on it in real time. "
      ]
    },
    {
      "cell_type": "code",
      "metadata": {
        "id": "neSICMqindWM",
        "outputId": "3a5d5936-b9b9-4d92-8538-8be45d513d12",
        "colab": {
          "base_uri": "https://localhost:8080/",
          "height": 280
        }
      },
      "source": [
        "!pip install pydrive\n",
        "from pydrive.auth import GoogleAuth\n",
        "from pydrive.drive import GoogleDrive\n",
        "from google.colab import auth\n",
        "from oauth2client.client import GoogleCredentials\n",
        "\n",
        "# 1. Authenticate and create the PyDrive client.\n",
        "auth.authenticate_user()\n",
        "gauth = GoogleAuth()\n",
        "gauth.credentials = GoogleCredentials.get_application_default()\n",
        "drive = GoogleDrive(gauth)"
      ],
      "execution_count": 1,
      "outputs": [
        {
          "output_type": "stream",
          "text": [
            "Requirement already satisfied: pydrive in /usr/local/lib/python3.6/dist-packages (1.3.1)\n",
            "Requirement already satisfied: oauth2client>=4.0.0 in /usr/local/lib/python3.6/dist-packages (from pydrive) (4.1.3)\n",
            "Requirement already satisfied: google-api-python-client>=1.2 in /usr/local/lib/python3.6/dist-packages (from pydrive) (1.7.12)\n",
            "Requirement already satisfied: PyYAML>=3.0 in /usr/local/lib/python3.6/dist-packages (from pydrive) (3.13)\n",
            "Requirement already satisfied: pyasn1>=0.1.7 in /usr/local/lib/python3.6/dist-packages (from oauth2client>=4.0.0->pydrive) (0.4.8)\n",
            "Requirement already satisfied: six>=1.6.1 in /usr/local/lib/python3.6/dist-packages (from oauth2client>=4.0.0->pydrive) (1.15.0)\n",
            "Requirement already satisfied: httplib2>=0.9.1 in /usr/local/lib/python3.6/dist-packages (from oauth2client>=4.0.0->pydrive) (0.17.4)\n",
            "Requirement already satisfied: pyasn1-modules>=0.0.5 in /usr/local/lib/python3.6/dist-packages (from oauth2client>=4.0.0->pydrive) (0.2.8)\n",
            "Requirement already satisfied: rsa>=3.1.4 in /usr/local/lib/python3.6/dist-packages (from oauth2client>=4.0.0->pydrive) (4.6)\n",
            "Requirement already satisfied: google-auth-httplib2>=0.0.3 in /usr/local/lib/python3.6/dist-packages (from google-api-python-client>=1.2->pydrive) (0.0.4)\n",
            "Requirement already satisfied: google-auth>=1.4.1 in /usr/local/lib/python3.6/dist-packages (from google-api-python-client>=1.2->pydrive) (1.17.2)\n",
            "Requirement already satisfied: uritemplate<4dev,>=3.0.0 in /usr/local/lib/python3.6/dist-packages (from google-api-python-client>=1.2->pydrive) (3.0.1)\n",
            "Requirement already satisfied: setuptools>=40.3.0 in /usr/local/lib/python3.6/dist-packages (from google-auth>=1.4.1->google-api-python-client>=1.2->pydrive) (50.3.0)\n",
            "Requirement already satisfied: cachetools<5.0,>=2.0.0 in /usr/local/lib/python3.6/dist-packages (from google-auth>=1.4.1->google-api-python-client>=1.2->pydrive) (4.1.1)\n"
          ],
          "name": "stdout"
        }
      ]
    },
    {
      "cell_type": "code",
      "metadata": {
        "id": "RHO0DFf2To60",
        "outputId": "69ccea83-f2cd-44f5-cd3c-fd8bf63db599",
        "colab": {
          "base_uri": "https://localhost:8080/",
          "height": 1000
        }
      },
      "source": [
        "!sudo apt-get install python-dev\n",
        "!apt -qq install -y sox\n",
        "!pip install librosa\n",
        "!pip install soundfile\n",
        "!pip3 install deepspeech\n",
        "!pip install jiwer\n",
        "!pip install wave\n",
        "!pip install ffmpeg-python\n",
        "!pip install pydub\n",
        "!pip install sounddevice\n",
        "!sudo apt-get install libcdio-dev libcdio-paranoia-dev"
      ],
      "execution_count": 2,
      "outputs": [
        {
          "output_type": "stream",
          "text": [
            "Reading package lists... Done\n",
            "Building dependency tree       \n",
            "Reading state information... Done\n",
            "python-dev is already the newest version (2.7.15~rc1-1).\n",
            "0 upgraded, 0 newly installed, 0 to remove and 21 not upgraded.\n",
            "The following additional packages will be installed:\n",
            "  libmagic-mgc libmagic1 libopencore-amrnb0 libopencore-amrwb0 libsox-fmt-alsa\n",
            "  libsox-fmt-base libsox3\n",
            "Suggested packages:\n",
            "  file libsox-fmt-all\n",
            "The following NEW packages will be installed:\n",
            "  libmagic-mgc libmagic1 libopencore-amrnb0 libopencore-amrwb0 libsox-fmt-alsa\n",
            "  libsox-fmt-base libsox3 sox\n",
            "0 upgraded, 8 newly installed, 0 to remove and 21 not upgraded.\n",
            "Need to get 760 kB of archives.\n",
            "After this operation, 6,717 kB of additional disk space will be used.\n",
            "Selecting previously unselected package libopencore-amrnb0:amd64.\n",
            "(Reading database ... 144611 files and directories currently installed.)\n",
            "Preparing to unpack .../0-libopencore-amrnb0_0.1.3-2.1_amd64.deb ...\n",
            "Unpacking libopencore-amrnb0:amd64 (0.1.3-2.1) ...\n",
            "Selecting previously unselected package libopencore-amrwb0:amd64.\n",
            "Preparing to unpack .../1-libopencore-amrwb0_0.1.3-2.1_amd64.deb ...\n",
            "Unpacking libopencore-amrwb0:amd64 (0.1.3-2.1) ...\n",
            "Selecting previously unselected package libmagic-mgc.\n",
            "Preparing to unpack .../2-libmagic-mgc_1%3a5.32-2ubuntu0.4_amd64.deb ...\n",
            "Unpacking libmagic-mgc (1:5.32-2ubuntu0.4) ...\n",
            "Selecting previously unselected package libmagic1:amd64.\n",
            "Preparing to unpack .../3-libmagic1_1%3a5.32-2ubuntu0.4_amd64.deb ...\n",
            "Unpacking libmagic1:amd64 (1:5.32-2ubuntu0.4) ...\n",
            "Selecting previously unselected package libsox3:amd64.\n",
            "Preparing to unpack .../4-libsox3_14.4.2-3ubuntu0.18.04.1_amd64.deb ...\n",
            "Unpacking libsox3:amd64 (14.4.2-3ubuntu0.18.04.1) ...\n",
            "Selecting previously unselected package libsox-fmt-alsa:amd64.\n",
            "Preparing to unpack .../5-libsox-fmt-alsa_14.4.2-3ubuntu0.18.04.1_amd64.deb ...\n",
            "Unpacking libsox-fmt-alsa:amd64 (14.4.2-3ubuntu0.18.04.1) ...\n",
            "Selecting previously unselected package libsox-fmt-base:amd64.\n",
            "Preparing to unpack .../6-libsox-fmt-base_14.4.2-3ubuntu0.18.04.1_amd64.deb ...\n",
            "Unpacking libsox-fmt-base:amd64 (14.4.2-3ubuntu0.18.04.1) ...\n",
            "Selecting previously unselected package sox.\n",
            "Preparing to unpack .../7-sox_14.4.2-3ubuntu0.18.04.1_amd64.deb ...\n",
            "Unpacking sox (14.4.2-3ubuntu0.18.04.1) ...\n",
            "Setting up libmagic-mgc (1:5.32-2ubuntu0.4) ...\n",
            "Setting up libmagic1:amd64 (1:5.32-2ubuntu0.4) ...\n",
            "Setting up libopencore-amrnb0:amd64 (0.1.3-2.1) ...\n",
            "Setting up libopencore-amrwb0:amd64 (0.1.3-2.1) ...\n",
            "Setting up libsox3:amd64 (14.4.2-3ubuntu0.18.04.1) ...\n",
            "Setting up libsox-fmt-base:amd64 (14.4.2-3ubuntu0.18.04.1) ...\n",
            "Setting up libsox-fmt-alsa:amd64 (14.4.2-3ubuntu0.18.04.1) ...\n",
            "Setting up sox (14.4.2-3ubuntu0.18.04.1) ...\n",
            "Processing triggers for libc-bin (2.27-3ubuntu1.2) ...\n",
            "/sbin/ldconfig.real: /usr/local/lib/python3.6/dist-packages/ideep4py/lib/libmkldnn.so.0 is not a symbolic link\n",
            "\n",
            "Processing triggers for man-db (2.8.3-2ubuntu0.1) ...\n",
            "Processing triggers for mime-support (3.60ubuntu1) ...\n",
            "Requirement already satisfied: librosa in /usr/local/lib/python3.6/dist-packages (0.6.3)\n",
            "Requirement already satisfied: audioread>=2.0.0 in /usr/local/lib/python3.6/dist-packages (from librosa) (2.1.8)\n",
            "Requirement already satisfied: resampy>=0.2.0 in /usr/local/lib/python3.6/dist-packages (from librosa) (0.2.2)\n",
            "Requirement already satisfied: six>=1.3 in /usr/local/lib/python3.6/dist-packages (from librosa) (1.15.0)\n",
            "Requirement already satisfied: numba>=0.38.0 in /usr/local/lib/python3.6/dist-packages (from librosa) (0.48.0)\n",
            "Requirement already satisfied: scikit-learn!=0.19.0,>=0.14.0 in /usr/local/lib/python3.6/dist-packages (from librosa) (0.22.2.post1)\n",
            "Requirement already satisfied: scipy>=1.0.0 in /usr/local/lib/python3.6/dist-packages (from librosa) (1.4.1)\n",
            "Requirement already satisfied: numpy>=1.8.0 in /usr/local/lib/python3.6/dist-packages (from librosa) (1.18.5)\n",
            "Requirement already satisfied: decorator>=3.0.0 in /usr/local/lib/python3.6/dist-packages (from librosa) (4.4.2)\n",
            "Requirement already satisfied: joblib>=0.12 in /usr/local/lib/python3.6/dist-packages (from librosa) (0.16.0)\n",
            "Requirement already satisfied: llvmlite<0.32.0,>=0.31.0dev0 in /usr/local/lib/python3.6/dist-packages (from numba>=0.38.0->librosa) (0.31.0)\n",
            "Requirement already satisfied: setuptools in /usr/local/lib/python3.6/dist-packages (from numba>=0.38.0->librosa) (50.3.0)\n",
            "Collecting soundfile\n",
            "  Downloading https://files.pythonhosted.org/packages/eb/f2/3cbbbf3b96fb9fa91582c438b574cff3f45b29c772f94c400e2c99ef5db9/SoundFile-0.10.3.post1-py2.py3-none-any.whl\n",
            "Requirement already satisfied: cffi>=1.0 in /usr/local/lib/python3.6/dist-packages (from soundfile) (1.14.3)\n",
            "Requirement already satisfied: pycparser in /usr/local/lib/python3.6/dist-packages (from cffi>=1.0->soundfile) (2.20)\n",
            "Installing collected packages: soundfile\n",
            "Successfully installed soundfile-0.10.3.post1\n",
            "Collecting deepspeech\n",
            "\u001b[?25l  Downloading https://files.pythonhosted.org/packages/43/ff/f17ff70af03d27afb749f866cab2e6f5def29e02d5aa2762afc68ea92eab/deepspeech-0.8.2-cp36-cp36m-manylinux1_x86_64.whl (8.3MB)\n",
            "\u001b[K     |████████████████████████████████| 8.3MB 3.5MB/s \n",
            "\u001b[?25hRequirement already satisfied: numpy in /usr/local/lib/python3.6/dist-packages (from deepspeech) (1.18.5)\n",
            "Installing collected packages: deepspeech\n",
            "Successfully installed deepspeech-0.8.2\n",
            "Collecting jiwer\n",
            "  Downloading https://files.pythonhosted.org/packages/d7/2a/266d3b1e41cb9f4981f386a07a54b49070c3b0b72e21caae4cca2317ae02/jiwer-2.1.0-py3-none-any.whl\n",
            "Requirement already satisfied: numpy in /usr/local/lib/python3.6/dist-packages (from jiwer) (1.18.5)\n",
            "Collecting python-Levenshtein\n",
            "\u001b[?25l  Downloading https://files.pythonhosted.org/packages/42/a9/d1785c85ebf9b7dfacd08938dd028209c34a0ea3b1bcdb895208bd40a67d/python-Levenshtein-0.12.0.tar.gz (48kB)\n",
            "\u001b[K     |████████████████████████████████| 51kB 3.5MB/s \n",
            "\u001b[?25hRequirement already satisfied: setuptools in /usr/local/lib/python3.6/dist-packages (from python-Levenshtein->jiwer) (50.3.0)\n",
            "Building wheels for collected packages: python-Levenshtein\n",
            "  Building wheel for python-Levenshtein (setup.py) ... \u001b[?25l\u001b[?25hdone\n",
            "  Created wheel for python-Levenshtein: filename=python_Levenshtein-0.12.0-cp36-cp36m-linux_x86_64.whl size=144798 sha256=ec1a88433c36be29c898eef53e645c40916c521f0cd34c36771a0541f1f4a9d4\n",
            "  Stored in directory: /root/.cache/pip/wheels/de/c2/93/660fd5f7559049268ad2dc6d81c4e39e9e36518766eaf7e342\n",
            "Successfully built python-Levenshtein\n",
            "Installing collected packages: python-Levenshtein, jiwer\n",
            "Successfully installed jiwer-2.1.0 python-Levenshtein-0.12.0\n",
            "Collecting wave\n",
            "  Downloading https://files.pythonhosted.org/packages/df/33/5a06e0c47a147b2683876ba7c576fad13e92b0b16755eb431e56c341e0cf/Wave-0.0.2.tar.gz\n",
            "Building wheels for collected packages: wave\n",
            "  Building wheel for wave (setup.py) ... \u001b[?25l\u001b[?25hdone\n",
            "  Created wheel for wave: filename=Wave-0.0.2-cp36-none-any.whl size=1247 sha256=87d52526d6c451992b6262754839ff303492d747830e713ed67d7dcde91d048d\n",
            "  Stored in directory: /root/.cache/pip/wheels/8c/2e/ad/d96151afb1fdccf126346b26eabb91fec3c5ce5cbee7287fbf\n",
            "Successfully built wave\n",
            "Installing collected packages: wave\n",
            "Successfully installed wave-0.0.2\n",
            "Collecting ffmpeg-python\n",
            "  Downloading https://files.pythonhosted.org/packages/d7/0c/56be52741f75bad4dc6555991fabd2e07b432d333da82c11ad701123888a/ffmpeg_python-0.2.0-py3-none-any.whl\n",
            "Requirement already satisfied: future in /usr/local/lib/python3.6/dist-packages (from ffmpeg-python) (0.16.0)\n",
            "Installing collected packages: ffmpeg-python\n",
            "Successfully installed ffmpeg-python-0.2.0\n"
          ],
          "name": "stdout"
        }
      ]
    },
    {
      "cell_type": "markdown",
      "metadata": {
        "id": "B_8WgZiTAp0s"
      },
      "source": [
        "# DeepSpeech\n",
        "\n",
        "DeepSpeech is a state-of-the-art speech recognition system originally proposed in Baidu's Deepspeech paper. It is notable for being one of the first end-to-end trained speech recognition models without the use of handcrafted expert features and beating the word error rate (WER) of previously published results on several test sets. \n",
        "\n",
        "It is comprised of two components: a RNN model that predicts letters successively from an audio clip, and a subsequent language model that is trained to correct the output of the RNN to more plausible sequences, due to the nosiy and dynamic distribution of audio. \n",
        "\n",
        "To overcome the problem of there being no fixed mapping from input (audio sequence) to output (text, variable length), the paper uses the Connectionist Temporal Classifcation (CTC) loss to train the RNN. \n",
        "\n",
        "Essentially, the audio sequence is split into infitestimally brief timesteps, and the model predicts an output for every short window of samples it is given, which can include null characters. The model discovers the possibilities of all valid distributions of the output sequence using a dynamic programming approach. Finally, the model marginalizes over similar distributions with beam search in order to produce the final possibilities of the output sequence. \n",
        "\n"
      ]
    },
    {
      "cell_type": "code",
      "metadata": {
        "id": "Hkl2aL6N3ThT",
        "outputId": "206ddd35-4215-4e88-baf1-bff362c7ee38",
        "colab": {
          "base_uri": "https://localhost:8080/",
          "height": 581
        }
      },
      "source": [
        "%%bash \n",
        "# Install DeepSpeech\n",
        "pip3 install deepspeech\n",
        "\n",
        "# Download pre-trained English model files\n",
        "curl -LO https://github.com/mozilla/DeepSpeech/releases/download/v0.8.1/deepspeech-0.8.1-models.pbmm\n",
        "curl -LO https://github.com/mozilla/DeepSpeech/releases/download/v0.8.1/deepspeech-0.8.1-models.scorer\n",
        "\n",
        "# Download example audio files\n",
        "curl -LO https://github.com/mozilla/DeepSpeech/releases/download/v0.8.1/audio-0.8.1.tar.gz\n",
        "tar xvf audio-0.8.1.tar.gz\n",
        "\n",
        "# Transcribe an audio file\n",
        "deepspeech --model deepspeech-0.8.1-models.pbmm --scorer deepspeech-0.8.1-models.scorer --audio audio/2830-3980-0043.wav "
      ],
      "execution_count": 3,
      "outputs": [
        {
          "output_type": "stream",
          "text": [
            "Requirement already satisfied: deepspeech in /usr/local/lib/python3.6/dist-packages (0.8.2)\n",
            "Requirement already satisfied: numpy in /usr/local/lib/python3.6/dist-packages (from deepspeech) (1.18.5)\n",
            "audio/\n",
            "audio/2830-3980-0043.wav\n",
            "audio/Attribution.txt\n",
            "audio/4507-16021-0012.wav\n",
            "audio/8455-210777-0068.wav\n",
            "audio/License.txt\n",
            "experience proves this\n"
          ],
          "name": "stdout"
        },
        {
          "output_type": "stream",
          "text": [
            "  % Total    % Received % Xferd  Average Speed   Time    Time     Time  Current\n",
            "                                 Dload  Upload   Total   Spent    Left  Speed\n",
            "\r  0     0    0     0    0     0      0      0 --:--:-- --:--:-- --:--:--     0\r100   652  100   652    0     0   2990      0 --:--:-- --:--:-- --:--:--  2990\n",
            "\r  0     0    0     0    0     0      0      0 --:--:-- --:--:-- --:--:--     0\r  4  180M    4 7458k    0     0  6009k      0  0:00:30  0:00:01  0:00:29 7384k\r 28  180M   28 50.9M    0     0  22.6M      0  0:00:07  0:00:02  0:00:05 25.2M\r 52  180M   52 93.7M    0     0  28.8M      0  0:00:06  0:00:03  0:00:03 31.0M\r 64  180M   64  115M    0     0  27.2M      0  0:00:06  0:00:04  0:00:02 28.8M\r 87  180M   87  157M    0     0  30.0M      0  0:00:05  0:00:05 --:--:-- 31.4M\r100  180M  100  180M    0     0  31.6M      0  0:00:05  0:00:05 --:--:-- 38.8M\n",
            "  % Total    % Received % Xferd  Average Speed   Time    Time     Time  Current\n",
            "                                 Dload  Upload   Total   Spent    Left  Speed\n",
            "\r  0     0    0     0    0     0      0      0 --:--:-- --:--:-- --:--:--     0\r100   654  100   654    0     0   2986      0 --:--:-- --:--:-- --:--:--  2986\n",
            "\r  0  909M    0     0    0     0      0      0 --:--:-- --:--:-- --:--:--     0\r  2  909M    2 22.9M    0     0  15.1M      0  0:01:00  0:00:01  0:00:59 24.6M\r  7  909M    7 66.0M    0     0  26.1M      0  0:00:34  0:00:02  0:00:32 33.9M\r 12  909M   12  111M    0     0  31.7M      0  0:00:28  0:00:03  0:00:25 38.0M\r 17  909M   17  156M    0     0  34.6M      0  0:00:26  0:00:04  0:00:22 39.7M\r 22  909M   22  202M    0     0  36.6M      0  0:00:24  0:00:05  0:00:19 40.9M\r 27  909M   27  247M    0     0  37.9M      0  0:00:23  0:00:06  0:00:17 44.9M\r 32  909M   32  292M    0     0  38.9M      0  0:00:23  0:00:07  0:00:16 45.4M\r 37  909M   37  338M    0     0  39.7M      0  0:00:22  0:00:08  0:00:14 45.3M\r 42  909M   42  383M    0     0  40.0M      0  0:00:22  0:00:09  0:00:13 44.8M\r 46  909M   46  427M    0     0  40.4M      0  0:00:22  0:00:10  0:00:12 44.7M\r 51  909M   51  471M    0     0  40.8M      0  0:00:22  0:00:11  0:00:11 44.5M\r 56  909M   56  511M    0     0  40.2M      0  0:00:22  0:00:12  0:00:10 42.2M\r 58  909M   58  535M    0     0  39.5M      0  0:00:23  0:00:13  0:00:10 39.1M\r 63  909M   63  573M    0     0  39.4M      0  0:00:23  0:00:14  0:00:09 38.2M\r 66  909M   66  606M    0     0  39.0M      0  0:00:23  0:00:15  0:00:08 35.9M\r 70  909M   70  640M    0     0  38.7M      0  0:00:23  0:00:16  0:00:07 34.0M\r 74  909M   74  677M    0     0  38.6M      0  0:00:23  0:00:17  0:00:06 34.3M\r 78  909M   78  714M    0     0  38.5M      0  0:00:23  0:00:18  0:00:05 36.1M\r 82  909M   82  752M    0     0  38.5M      0  0:00:23  0:00:19  0:00:04 35.9M\r 87  909M   87  791M    0     0  38.5M      0  0:00:23  0:00:20  0:00:03 37.0M\r 90  909M   90  826M    0     0  38.3M      0  0:00:23  0:00:21  0:00:02 37.1M\r 94  909M   94  854M    0     0  37.9M      0  0:00:23  0:00:22  0:00:01 35.5M\r 97  909M   97  885M    0     0  37.6M      0  0:00:24  0:00:23  0:00:01 34.0M\r100  909M  100  909M    0     0  37.4M      0  0:00:24  0:00:24 --:--:-- 32.7M\n",
            "  % Total    % Received % Xferd  Average Speed   Time    Time     Time  Current\n",
            "                                 Dload  Upload   Total   Spent    Left  Speed\n",
            "\r  0     0    0     0    0     0      0      0 --:--:-- --:--:-- --:--:--     0\r100   642  100   642    0     0   3131      0 --:--:-- --:--:-- --:--:--  3147\n",
            "\r  0     0    0     0    0     0      0      0 --:--:-- --:--:-- --:--:--     0\r100  192k  100  192k    0     0   255k      0 --:--:-- --:--:-- --:--:--  351k\n",
            "TensorFlow: v2.2.0-24-g1c1b2b9\n",
            "DeepSpeech: v0.8.2-0-g02e4c76\n",
            "2020-10-20 14:03:28.410768: I tensorflow/core/platform/cpu_feature_guard.cc:143] Your CPU supports instructions that this TensorFlow binary was not compiled to use: AVX2 FMA\n",
            "Loading model from file deepspeech-0.8.1-models.pbmm\n",
            "Loaded model in 0.00798s.\n",
            "Loading scorer from files deepspeech-0.8.1-models.scorer\n",
            "Loaded scorer in 0.000204s.\n",
            "Running inference.\n",
            "Inference took 1.371s for 1.975s audio file.\n"
          ],
          "name": "stderr"
        }
      ]
    },
    {
      "cell_type": "code",
      "metadata": {
        "id": "PrwUYwfDnufl"
      },
      "source": [
        "import pandas as pd\n",
        "import pydub\n",
        "clip_info = pd.read_csv('/content/drive/My Drive/clip_info_frontier.csv')"
      ],
      "execution_count": 4,
      "outputs": []
    },
    {
      "cell_type": "code",
      "metadata": {
        "id": "8W_HZtWQDPCj",
        "outputId": "cc4815ac-7be8-4706-f16e-f4d9ca720602",
        "colab": {
          "base_uri": "https://localhost:8080/",
          "height": 55
        }
      },
      "source": [
        "%%time\n",
        "!cp \"/content/drive/My Drive/speaker_audio_wavs.zip\" \"speaker_audio_wavs.zip\" \n",
        "!unzip -q \"speaker_audio_wavs.zip\""
      ],
      "execution_count": 5,
      "outputs": [
        {
          "output_type": "stream",
          "text": [
            "CPU times: user 1.09 s, sys: 183 ms, total: 1.27 s\n",
            "Wall time: 8min 16s\n"
          ],
          "name": "stdout"
        }
      ]
    },
    {
      "cell_type": "code",
      "metadata": {
        "id": "PkaiyFOAUdzJ",
        "outputId": "a5a4c205-1206-44d4-d462-3257a27aa291",
        "colab": {
          "base_uri": "https://localhost:8080/",
          "height": 55
        }
      },
      "source": [
        "!pip install deepspeech\n",
        "import deepspeech\n",
        "from scipy.io import wavfile\n",
        "from jiwer import wer"
      ],
      "execution_count": 6,
      "outputs": [
        {
          "output_type": "stream",
          "text": [
            "Requirement already satisfied: deepspeech in /usr/local/lib/python3.6/dist-packages (0.8.2)\n",
            "Requirement already satisfied: numpy in /usr/local/lib/python3.6/dist-packages (from deepspeech) (1.18.5)\n"
          ],
          "name": "stdout"
        }
      ]
    },
    {
      "cell_type": "code",
      "metadata": {
        "id": "5JtCeQpTfcMO"
      },
      "source": [
        "\n",
        "model = deepspeech.Model(\"deepspeech-0.8.1-models.pbmm\")\n",
        "model.enableExternalScorer(\"deepspeech-0.8.1-models.scorer\")"
      ],
      "execution_count": 7,
      "outputs": []
    },
    {
      "cell_type": "code",
      "metadata": {
        "id": "S3eMelf2jyNJ",
        "outputId": "1fcb65a5-7f90-47d8-fcbf-f550abbf7f08",
        "colab": {
          "base_uri": "https://localhost:8080/",
          "height": 56
        }
      },
      "source": [
        "import soundfile as sf\n",
        "\n",
        "data, samplerate = sf.read(\"/content/content/speaker_audio_wavs/3664/3664-11714-0019.wav\", dtype='int16')\n",
        "pred = model.stt(data)\n",
        "print(pred)\n"
      ],
      "execution_count": 11,
      "outputs": [
        {
          "output_type": "stream",
          "text": [
            "he replied with a groan which proved the monk's memory to be only too true then at last when he had finished the renzo asked in a doubtful tone then do you believe my father that god will forgive me everything both my sins and my crimes\n"
          ],
          "name": "stdout"
        }
      ]
    },
    {
      "cell_type": "code",
      "metadata": {
        "id": "IIO8EntJn2br",
        "outputId": "8f866cf9-9f93-4df8-bd54-d2423d814c2b",
        "colab": {
          "base_uri": "https://localhost:8080/",
          "height": 36
        }
      },
      "source": [
        "## Testing out total word error with our LibriSpeech corpus \n",
        "## An approximate experiment with 100 samples had an impressive error rate of 3%. \n",
        "\n",
        "total_wer = 0.0\n",
        "for i in range(len(clip_info)):\n",
        "  row = clip_info.iloc[i]\n",
        "  data, samplerate =  sf.read(row.wav_path,  dtype='int16')\n",
        "  pred = model.stt(data)\n",
        "  total_wer += wer(pred, row.normalized_content)\n",
        "  if i == 100:\n",
        "    break\n",
        "\n",
        "print(total_wer/(i+1))"
      ],
      "execution_count": 13,
      "outputs": [
        {
          "output_type": "stream",
          "text": [
            "0.02990148597035311\n"
          ],
          "name": "stdout"
        }
      ]
    },
    {
      "cell_type": "markdown",
      "metadata": {
        "id": "C-tE9_4_knu0"
      },
      "source": [
        "# Try it out yourself! \n",
        "\n",
        "A wrapper function to perform inference on your own pre-recorded audio file. "
      ]
    },
    {
      "cell_type": "code",
      "metadata": {
        "id": "7ed_Mdbv6vNg"
      },
      "source": [
        "\"\"\"\n",
        "To write this piece of code I took inspiration/code from a lot of places.\n",
        "It was late night, so I'm not sure how much I created or just copied o.O\n",
        "Here are some of the possible references:\n",
        "https://blog.addpipe.com/recording-audio-in-the-browser-using-pure-html5-and-minimal-javascript/\n",
        "https://stackoverflow.com/a/18650249\n",
        "https://hacks.mozilla.org/2014/06/easy-audio-capture-with-the-mediarecorder-api/\n",
        "https://air.ghost.io/recording-to-an-audio-file-using-html5-and-js/\n",
        "https://stackoverflow.com/a/49019356\n",
        "\"\"\"\n",
        "from IPython.display import HTML, Audio\n",
        "from google.colab.output import eval_js\n",
        "from base64 import b64decode\n",
        "import numpy as np\n",
        "from scipy.io.wavfile import read as wav_read\n",
        "import io\n",
        "import scipy\n",
        "import ffmpeg\n",
        "import random\n",
        "import string\n",
        "\n",
        "\n",
        "\n",
        "AUDIO_HTML = \"\"\"\n",
        "<script>\n",
        "var my_div = document.createElement(\"DIV\");\n",
        "var my_p = document.createElement(\"P\");\n",
        "var my_btn = document.createElement(\"BUTTON\");\n",
        "var t = document.createTextNode(\"Press to start recording\");\n",
        "\n",
        "my_btn.appendChild(t);\n",
        "//my_p.appendChild(my_btn);\n",
        "my_div.appendChild(my_btn);\n",
        "document.body.appendChild(my_div);\n",
        "\n",
        "var base64data = 0;\n",
        "var reader;\n",
        "var recorder, gumStream;\n",
        "var recordButton = my_btn;\n",
        "\n",
        "var handleSuccess = function(stream) {\n",
        "  gumStream = stream;\n",
        "  var options = {\n",
        "    //bitsPerSecond: 8000, //chrome seems to ignore, always 48k\n",
        "    mimeType : 'audio/webm;codecs=opus'\n",
        "    //mimeType : 'audio/webm;codecs=pcm'\n",
        "  };            \n",
        "  //recorder = new MediaRecorder(stream, options);\n",
        "  recorder = new MediaRecorder(stream);\n",
        "  recorder.ondataavailable = function(e) {            \n",
        "    var url = URL.createObjectURL(e.data);\n",
        "    var preview = document.createElement('audio');\n",
        "    preview.controls = true;\n",
        "    preview.src = url;\n",
        "    document.body.appendChild(preview);\n",
        "\n",
        "    reader = new FileReader();\n",
        "    reader.readAsDataURL(e.data); \n",
        "    reader.onloadend = function() {\n",
        "      base64data = reader.result;\n",
        "      //console.log(\"Inside FileReader:\" + base64data);\n",
        "    }\n",
        "  };\n",
        "  recorder.start();\n",
        "  };\n",
        "\n",
        "recordButton.innerText = \"Recording... press to stop\";\n",
        "\n",
        "navigator.mediaDevices.getUserMedia({audio: true}).then(handleSuccess);\n",
        "\n",
        "\n",
        "function toggleRecording() {\n",
        "  if (recorder && recorder.state == \"recording\") {\n",
        "      recorder.stop();\n",
        "      gumStream.getAudioTracks()[0].stop();\n",
        "      recordButton.innerText = \"Saving the recording... pls wait!\"\n",
        "  }else if (recorder && recorder.state != \"recording\"){\n",
        "    recorder.start()\n",
        "    gumStream.getAudioTracks()[0].start()\n",
        "    recordButton.innerText = \"Press button to start recording\"\n",
        "  }\n",
        "}\n",
        "\n",
        "// https://stackoverflow.com/a/951057\n",
        "function sleep(ms) {\n",
        "  return new Promise(resolve => setTimeout(resolve, ms));\n",
        "}\n",
        "\n",
        "var data = new Promise(resolve=>{\n",
        "//recordButton.addEventListener(\"click\", toggleRecording);\n",
        "recordButton.onclick = ()=>{\n",
        "toggleRecording()\n",
        "\n",
        "sleep(2000).then(() => {\n",
        "  // wait 2000ms for the data to be available...\n",
        "  // ideally this should use something like await...\n",
        "  //console.log(\"Inside data:\" + base64data)\n",
        "  recordButton.innerText = \"Saved!\"\n",
        "  resolve(base64data.toString())\n",
        "\n",
        "});\n",
        "\n",
        "}\n",
        "});\n",
        "      \n",
        "</script>\n",
        "\"\"\"\n",
        "\n",
        "\n",
        "\n",
        "def get_audio():\n",
        "  display(HTML(AUDIO_HTML))\n",
        "  data = eval_js(\"data\")\n",
        "  binary = b64decode(data.split(',')[1])\n",
        "  \n",
        "  process = (ffmpeg\n",
        "    .input('pipe:0')\n",
        "    .output('pipe:1', format='wav')\n",
        "    .run_async(pipe_stdin=True, pipe_stdout=True, pipe_stderr=True, quiet=True, overwrite_output=True)\n",
        "  )\n",
        "  output, err = process.communicate(input=binary)\n",
        "  \n",
        "  riff_chunk_size = len(output) - 8\n",
        "  # Break up the chunk size into four bytes, held in b.\n",
        "  q = riff_chunk_size\n",
        "  b = []\n",
        "  for i in range(4):\n",
        "      q, r = divmod(q, 256)\n",
        "      b.append(r)\n",
        "\n",
        "  # Replace bytes 4:8 in proc.stdout with the actual size of the RIFF chunk.\n",
        "  riff = output[:4] + bytes(b) + output[8:]\n",
        "\n",
        "  sr, audio = wav_read(io.BytesIO(riff))\n",
        "\n",
        "  fn = ''.join(random.SystemRandom().choice(string.ascii_uppercase + string.digits) for _ in range(12))\n",
        "  newfn = fn + '.wav'\n",
        "  \n",
        "  scipy.io.wavfile.write(newfn, sr, audio)\n",
        "\n",
        "  mysound = AudioSegment.from_wav(newfn)\n",
        "  mysound = mysound.set_channels(1)\n",
        "  mysound.export(newfn, format=\"wav\")\n",
        "  \n",
        "  \n",
        "  print(\"File saved as \" + fn + \".wav\")\n",
        "\n",
        "  \n",
        "  return audio, sr, newfn\n",
        "\n",
        "def return_predictions():\n",
        "  audio, sr, newfn = get_audio()\n",
        "  data, samplerate =  sf.read(newfn,  dtype='int16')\n",
        "  print(data.shape)\n",
        "  pred = model.stt(data)\n",
        "  print(pred)\n"
      ],
      "execution_count": 49,
      "outputs": []
    },
    {
      "cell_type": "code",
      "metadata": {
        "id": "-xcde4DY61lz",
        "outputId": "8d84e3e7-2383-403b-afd4-1fd613abb96b",
        "colab": {
          "base_uri": "https://localhost:8080/",
          "height": 141
        }
      },
      "source": [
        "## Run this cell to record your voice from the notebook.\n",
        "## Your browser will ask you permission for \n",
        "return_predictions()"
      ],
      "execution_count": 50,
      "outputs": [
        {
          "output_type": "display_data",
          "data": {
            "text/html": [
              "\n",
              "<script>\n",
              "var my_div = document.createElement(\"DIV\");\n",
              "var my_p = document.createElement(\"P\");\n",
              "var my_btn = document.createElement(\"BUTTON\");\n",
              "var t = document.createTextNode(\"Press to start recording\");\n",
              "\n",
              "my_btn.appendChild(t);\n",
              "//my_p.appendChild(my_btn);\n",
              "my_div.appendChild(my_btn);\n",
              "document.body.appendChild(my_div);\n",
              "\n",
              "var base64data = 0;\n",
              "var reader;\n",
              "var recorder, gumStream;\n",
              "var recordButton = my_btn;\n",
              "\n",
              "var handleSuccess = function(stream) {\n",
              "  gumStream = stream;\n",
              "  var options = {\n",
              "    //bitsPerSecond: 8000, //chrome seems to ignore, always 48k\n",
              "    mimeType : 'audio/webm;codecs=opus'\n",
              "    //mimeType : 'audio/webm;codecs=pcm'\n",
              "  };            \n",
              "  //recorder = new MediaRecorder(stream, options);\n",
              "  recorder = new MediaRecorder(stream);\n",
              "  recorder.ondataavailable = function(e) {            \n",
              "    var url = URL.createObjectURL(e.data);\n",
              "    var preview = document.createElement('audio');\n",
              "    preview.controls = true;\n",
              "    preview.src = url;\n",
              "    document.body.appendChild(preview);\n",
              "\n",
              "    reader = new FileReader();\n",
              "    reader.readAsDataURL(e.data); \n",
              "    reader.onloadend = function() {\n",
              "      base64data = reader.result;\n",
              "      //console.log(\"Inside FileReader:\" + base64data);\n",
              "    }\n",
              "  };\n",
              "  recorder.start();\n",
              "  };\n",
              "\n",
              "recordButton.innerText = \"Recording... press to stop\";\n",
              "\n",
              "navigator.mediaDevices.getUserMedia({audio: true}).then(handleSuccess);\n",
              "\n",
              "\n",
              "function toggleRecording() {\n",
              "  if (recorder && recorder.state == \"recording\") {\n",
              "      recorder.stop();\n",
              "      gumStream.getAudioTracks()[0].stop();\n",
              "      recordButton.innerText = \"Saving the recording... pls wait!\"\n",
              "  }else if (recorder && recorder.state != \"recording\"){\n",
              "    recorder.start()\n",
              "    gumStream.getAudioTracks()[0].start()\n",
              "    recordButton.innerText = \"Press button to start recording\"\n",
              "  }\n",
              "}\n",
              "\n",
              "// https://stackoverflow.com/a/951057\n",
              "function sleep(ms) {\n",
              "  return new Promise(resolve => setTimeout(resolve, ms));\n",
              "}\n",
              "\n",
              "var data = new Promise(resolve=>{\n",
              "//recordButton.addEventListener(\"click\", toggleRecording);\n",
              "recordButton.onclick = ()=>{\n",
              "toggleRecording()\n",
              "\n",
              "sleep(2000).then(() => {\n",
              "  // wait 2000ms for the data to be available...\n",
              "  // ideally this should use something like await...\n",
              "  //console.log(\"Inside data:\" + base64data)\n",
              "  recordButton.innerText = \"Saved!\"\n",
              "  resolve(base64data.toString())\n",
              "\n",
              "});\n",
              "\n",
              "}\n",
              "});\n",
              "      \n",
              "</script>\n"
            ],
            "text/plain": [
              "<IPython.core.display.HTML object>"
            ]
          },
          "metadata": {
            "tags": []
          }
        },
        {
          "output_type": "stream",
          "text": [
            "File saved as 9CEGOKCCY5HJ.wav\n",
            "(130488,)\n",
            "oh hush oh\n"
          ],
          "name": "stdout"
        }
      ]
    },
    {
      "cell_type": "code",
      "metadata": {
        "id": "4CukzUwF-RJ9",
        "outputId": "02939376-9819-4a7b-d20a-40686e7479cb",
        "colab": {
          "base_uri": "https://localhost:8080/",
          "height": 74
        }
      },
      "source": [
        "%%time\n",
        "'''\n",
        "#root = \"/content/drive/My Drive/speaker_audio_corpus/LibriSpeech/train-clean-100/\"\n",
        "\n",
        "target_root = \"/content/speaker_audio_wavs\"\n",
        "for i in range(len(clip_info)):\n",
        "  row = clip_info.iloc[i]\n",
        "  if pd.isnull(row.wav_path):\n",
        "    class_name = str(row.speaker_id)\n",
        "    id = row.id\n",
        "\n",
        "    if not os.path.exists(os.path.join(target_root, class_name)):\n",
        "      os.mkdir(os.path.join(target_root, class_name))\n",
        "\n",
        "\n",
        "    wav_path = os.path.join(os.path.join(target_root, class_name), id + \".wav\")\n",
        "    \n",
        "    flac_path = row.clip_path\n",
        "\n",
        "    song = AudioSegment.from_file(flac_path, \"flac\")\n",
        "    song.export(wav_path,format = \"wav\") \n",
        "    clip_info.loc[i, \"wav_path\"] = wav_path\n",
        "    if i % 10000 == 0:\n",
        "      print(i)\n",
        "\n",
        "!zip  -r \"speaker_audio_wavs.zip\" \"/content/speaker_audio_wavs\"\n",
        "\n",
        "import os\n",
        "i = 0\n",
        "for root, _, fns in os.walk(\"/content/content/speaker_audio_wavs\"):\n",
        "  for fn in fns:\n",
        "    id = fn.split('/')[-1][:-4]\n",
        "    path = os.path.join(root, fn)\n",
        "    clip_info.loc[clip_info.id == id, 'wav_path'] = path\n",
        "\n",
        "import string\n",
        "\n",
        "for i in range(len(clip_info)):\n",
        "\n",
        "  con = clip_info.iloc[i].content\n",
        "  clip_info.loc[i,'normalized_content'] = con.translate(str.maketrans('', '', string.punctuation)).lower()    \n",
        "\n",
        "clip_info.to_csv('clip_info_frontier.csv', index=False)\n",
        "'''"
      ],
      "execution_count": null,
      "outputs": [
        {
          "output_type": "stream",
          "text": [
            "20000\n",
            "CPU times: user 1min 26s, sys: 2min 24s, total: 3min 51s\n",
            "Wall time: 2h 4min 5s\n"
          ],
          "name": "stdout"
        }
      ]
    },
    {
      "cell_type": "code",
      "metadata": {
        "id": "4y0vStfN8EG6"
      },
      "source": [
        ""
      ],
      "execution_count": null,
      "outputs": []
    }
  ]
}